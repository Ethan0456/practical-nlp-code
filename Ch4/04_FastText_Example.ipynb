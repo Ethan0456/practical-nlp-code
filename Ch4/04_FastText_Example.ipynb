{
  "cells": [
    {
      "cell_type": "markdown",
      "metadata": {
        "id": "6FIToZHAhz2O"
      },
      "source": [
        "In this notebook we will demonstrate using the fastText library to perform text classificatoin on the dbpedie data which can we downloaded from [here](https://github.com/le-scientifique/torchDatasets/raw/master/dbpedia_csv.tar.gz). <br>fastText is a library for learning of word embeddings and text classification created by Facebook's AI Research (FAIR) lab. The model allows to create an unsupervised learning or supervised learning algorithm for obtaining vector representations for words. Facebook makes available pretrained models for 294 languages(source: [wiki](https://en.wikipedia.org/wiki/FastText)).<br>\n",
        "**Note**: This notebook uses an older version of fasttext."
      ]
    },
    {
      "cell_type": "code",
      "execution_count": 1,
      "metadata": {
        "colab": {
          "base_uri": "https://localhost:8080/"
        },
        "id": "UBnT5t_LiCU2",
        "outputId": "c63a8ae7-5816-486c-b161-1a597cff909f"
      },
      "outputs": [
        {
          "output_type": "stream",
          "name": "stdout",
          "text": [
            "Requirement already satisfied: pandas==1.5.3 in /usr/local/lib/python3.10/dist-packages (1.5.3)\n",
            "Requirement already satisfied: python-dateutil>=2.8.1 in /usr/local/lib/python3.10/dist-packages (from pandas==1.5.3) (2.8.2)\n",
            "Requirement already satisfied: pytz>=2020.1 in /usr/local/lib/python3.10/dist-packages (from pandas==1.5.3) (2023.3)\n",
            "Requirement already satisfied: numpy>=1.21.0 in /usr/local/lib/python3.10/dist-packages (from pandas==1.5.3) (1.23.5)\n",
            "Requirement already satisfied: six>=1.5 in /usr/local/lib/python3.10/dist-packages (from python-dateutil>=2.8.1->pandas==1.5.3) (1.16.0)\n",
            "Requirement already satisfied: gdown==4.6.6 in /usr/local/lib/python3.10/dist-packages (4.6.6)\n",
            "Requirement already satisfied: filelock in /usr/local/lib/python3.10/dist-packages (from gdown==4.6.6) (3.12.2)\n",
            "Requirement already satisfied: requests[socks] in /usr/local/lib/python3.10/dist-packages (from gdown==4.6.6) (2.31.0)\n",
            "Requirement already satisfied: six in /usr/local/lib/python3.10/dist-packages (from gdown==4.6.6) (1.16.0)\n",
            "Requirement already satisfied: tqdm in /usr/local/lib/python3.10/dist-packages (from gdown==4.6.6) (4.66.1)\n",
            "Requirement already satisfied: beautifulsoup4 in /usr/local/lib/python3.10/dist-packages (from gdown==4.6.6) (4.11.2)\n",
            "Requirement already satisfied: soupsieve>1.2 in /usr/local/lib/python3.10/dist-packages (from beautifulsoup4->gdown==4.6.6) (2.4.1)\n",
            "Requirement already satisfied: charset-normalizer<4,>=2 in /usr/local/lib/python3.10/dist-packages (from requests[socks]->gdown==4.6.6) (3.2.0)\n",
            "Requirement already satisfied: idna<4,>=2.5 in /usr/local/lib/python3.10/dist-packages (from requests[socks]->gdown==4.6.6) (3.4)\n",
            "Requirement already satisfied: urllib3<3,>=1.21.1 in /usr/local/lib/python3.10/dist-packages (from requests[socks]->gdown==4.6.6) (2.0.4)\n",
            "Requirement already satisfied: certifi>=2017.4.17 in /usr/local/lib/python3.10/dist-packages (from requests[socks]->gdown==4.6.6) (2023.7.22)\n",
            "Requirement already satisfied: PySocks!=1.5.7,>=1.5.6 in /usr/local/lib/python3.10/dist-packages (from requests[socks]->gdown==4.6.6) (1.7.1)\n",
            "Requirement already satisfied: fasttext==0.9.2 in /usr/local/lib/python3.10/dist-packages (0.9.2)\n",
            "Requirement already satisfied: pybind11>=2.2 in /usr/local/lib/python3.10/dist-packages (from fasttext==0.9.2) (2.11.1)\n",
            "Requirement already satisfied: setuptools>=0.7.0 in /usr/local/lib/python3.10/dist-packages (from fasttext==0.9.2) (67.7.2)\n",
            "Requirement already satisfied: numpy in /usr/local/lib/python3.10/dist-packages (from fasttext==0.9.2) (1.23.5)\n"
          ]
        }
      ],
      "source": [
        "# To install only the requirements of this notebook, uncomment the lines below and run this cell\n",
        "\n",
        "# ===========================\n",
        "\n",
        "!pip install pandas==1.5.3\n",
        "!pip install gdown==4.6.6\n",
        "!pip install fasttext==0.9.2\n",
        "\n",
        "# ==========================="
      ]
    },
    {
      "cell_type": "code",
      "execution_count": 2,
      "metadata": {
        "id": "zrBi6bvbiCU4"
      },
      "outputs": [],
      "source": [
        "# To install the requirements for the entire chapter, uncomment the lines below and run this cell\n",
        "\n",
        "# ===========================\n",
        "\n",
        "# try:\n",
        "#     import google.colab\n",
        "#     !curl  https://raw.githubusercontent.com/practical-nlp/practical-nlp/master/Ch4/ch4-requirements.txt | xargs -n 1 -L 1 pip install\n",
        "# except ModuleNotFoundError:\n",
        "#     !pip install -r \"ch4-requirements.txt\"\n",
        "\n",
        "# ==========================="
      ]
    },
    {
      "cell_type": "code",
      "execution_count": 3,
      "metadata": {
        "id": "YKgZXvTGb61z"
      },
      "outputs": [],
      "source": [
        "#necessary imports\n",
        "import os\n",
        "import pandas as pd\n",
        "import tarfile\n",
        "import gdown"
      ]
    },
    {
      "cell_type": "code",
      "execution_count": 6,
      "metadata": {
        "colab": {
          "base_uri": "https://localhost:8080/"
        },
        "id": "l6CfW7C3L4EB",
        "outputId": "6e30eb61-0cdc-4616-d14e-46888017cac9"
      },
      "outputs": [
        {
          "output_type": "stream",
          "name": "stdout",
          "text": [
            "Downloading...\n",
            "From: https://drive.google.com/uc?export=download&id=0Bz8a_Dbh9QhbQ2Vic1kxMmZZQ1k\n",
            "To: /content/DATAPATH/dbpedia_csv.tar.gz\n",
            "100% 68.3M/68.3M [00:00<00:00, 164MB/s]\n",
            "dbpedia_csv/\n",
            "dbpedia_csv/classes.txt\n",
            "dbpedia_csv/test.csv\n",
            "dbpedia_csv/train.csv\n",
            "dbpedia_csv/readme.txt\n",
            "total 66M\n",
            "drwxr-xr-x 3 root root  4.0K Aug 22 18:17 .\n",
            "drwxr-xr-x 1 root root  4.0K Aug 22 18:17 ..\n",
            "drwxrwxr-x 2 3666 11555 4.0K Sep  9  2015 dbpedia_csv\n",
            "-rw-r--r-- 1 root root   66M Aug 22 18:17 dbpedia_csv.tar.gz\n"
          ]
        }
      ],
      "source": [
        "def check_if_file_exists(filename: str, locations: list) -> str :\n",
        "    for location in locations:\n",
        "        if os.path.exists(os.path.join(location, filename)):\n",
        "            return location\n",
        "    return None\n",
        "\n",
        "def extract_tar_file(file_path: str, extraction_path: str) -> None:\n",
        "    tar = tarfile.open(file_path, \"r:gz\")\n",
        "    tar.extractall(extraction_path)\n",
        "    tar.close()\n",
        "\n",
        "try :\n",
        "\n",
        "    from google.colab import files\n",
        "\n",
        "    # specifying the data_path\n",
        "    data_path = \"./DATAPATH\"\n",
        "\n",
        "    !mkdir ./DATAPATH\n",
        "\n",
        "    # downloading the data\n",
        "    !gdown -O ./DATAPATH/dbpedia_csv.tar.gz \"https://drive.google.com/uc?export=download&id=0Bz8a_Dbh9QhbQ2Vic1kxMmZZQ1k\"\n",
        "\n",
        "    # untaring the required file\n",
        "    !tar -xvf ./DATAPATH/dbpedia_csv.tar.gz --directory ./DATAPATH\n",
        "\n",
        "    # sneek peek in the folder structure\n",
        "    !ls -lah ./DATAPATH\n",
        "\n",
        "except ModuleNotFoundError:\n",
        "    data_path = './Data/'\n",
        "    compressed_file_name = 'dbpedia_csv.tar.gz'\n",
        "    extracted_file_name = 'dbpedia_csv'\n",
        "\n",
        "    # Check if Extracted File exists\n",
        "    location_of_extracted_file = check_if_file_exists(extracted_file_name, ['./Data'])\n",
        "\n",
        "    if location_of_extracted_file:\n",
        "        # Extracted File exists\n",
        "        path_to_model = os.path.join(location_of_extracted_file, extracted_file_name)\n",
        "\n",
        "    else:\n",
        "        location_of_compressed_file = check_if_file_exists(compressed_file_name, ['./Data'])\n",
        "\n",
        "        if location_of_compressed_file:\n",
        "            # Compressed File exists\n",
        "            extract_tar_file(os.path.join(location_of_compressed_file, compressed_file_name), data_path)\n",
        "            path_to_model = os.path.join(data_path, extracted_file_name)\n",
        "\n",
        "        else:\n",
        "            # Download File\n",
        "            os.makedirs(\"./Data\", exist_ok=True)\n",
        "            output_path = './Data/'\n",
        "            gdown.download(\"https://drive.google.com/uc?export=download&id=0Bz8a_Dbh9QhbQ2Vic1kxMmZZQ1k\", output=output_path)\n",
        "\n",
        "            # Extract File\n",
        "            extract_tar_file(os.path.join(data_path, compressed_file_name), output_path)\n",
        "\n",
        "            path_to_model = os.path.join(data_path, extracted_file_name)\n",
        "\n",
        "    print(f\"Data Present at location : {path_to_model}\")"
      ]
    },
    {
      "cell_type": "code",
      "execution_count": 7,
      "metadata": {
        "colab": {
          "base_uri": "https://localhost:8080/"
        },
        "id": "lMoRw3oQb62I",
        "outputId": "61ef0d52-044d-4829-db25-796f9ae2d562"
      },
      "outputs": [
        {
          "output_type": "stream",
          "name": "stdout",
          "text": [
            "Train:(560000, 3) Test:(70000, 3)\n"
          ]
        }
      ],
      "source": [
        "# Loading train data\n",
        "train_file = data_path + '/dbpedia_csv/train.csv'\n",
        "df = pd.read_csv(train_file, header=None, names=['class','name','description'])\n",
        "# Loading test data\n",
        "test_file = data_path + '/dbpedia_csv/test.csv'\n",
        "df_test = pd.read_csv(test_file, header=None, names=['class','name','description'])\n",
        "# Data we have\n",
        "print(\"Train:{} Test:{}\".format(df.shape,df_test.shape))"
      ]
    },
    {
      "cell_type": "code",
      "execution_count": 8,
      "metadata": {
        "colab": {
          "base_uri": "https://localhost:8080/",
          "height": 206
        },
        "id": "gaz226vXb62W",
        "outputId": "ba8cecca-4c1b-41ae-f726-27f6bbef243f"
      },
      "outputs": [
        {
          "output_type": "execute_result",
          "data": {
            "text/plain": [
              "   class                               name  \\\n",
              "0      1                   E. D. Abbott Ltd   \n",
              "1      1                     Schwan-Stabilo   \n",
              "2      1                         Q-workshop   \n",
              "3      1  Marvell Software Solutions Israel   \n",
              "4      1        Bergan Mercy Medical Center   \n",
              "\n",
              "                                         description class_name  \n",
              "0   Abbott of Farnham E D Abbott Limited was a Br...    Company  \n",
              "1   Schwan-STABILO is a German maker of pens for ...    Company  \n",
              "2   Q-workshop is a Polish company located in Poz...    Company  \n",
              "3   Marvell Software Solutions Israel known as RA...    Company  \n",
              "4   Bergan Mercy Medical Center is a hospital loc...    Company  "
            ],
            "text/html": [
              "\n",
              "  <div id=\"df-5f0b541c-c8e3-4893-895f-54565bd6395c\" class=\"colab-df-container\">\n",
              "    <div>\n",
              "<style scoped>\n",
              "    .dataframe tbody tr th:only-of-type {\n",
              "        vertical-align: middle;\n",
              "    }\n",
              "\n",
              "    .dataframe tbody tr th {\n",
              "        vertical-align: top;\n",
              "    }\n",
              "\n",
              "    .dataframe thead th {\n",
              "        text-align: right;\n",
              "    }\n",
              "</style>\n",
              "<table border=\"1\" class=\"dataframe\">\n",
              "  <thead>\n",
              "    <tr style=\"text-align: right;\">\n",
              "      <th></th>\n",
              "      <th>class</th>\n",
              "      <th>name</th>\n",
              "      <th>description</th>\n",
              "      <th>class_name</th>\n",
              "    </tr>\n",
              "  </thead>\n",
              "  <tbody>\n",
              "    <tr>\n",
              "      <th>0</th>\n",
              "      <td>1</td>\n",
              "      <td>E. D. Abbott Ltd</td>\n",
              "      <td>Abbott of Farnham E D Abbott Limited was a Br...</td>\n",
              "      <td>Company</td>\n",
              "    </tr>\n",
              "    <tr>\n",
              "      <th>1</th>\n",
              "      <td>1</td>\n",
              "      <td>Schwan-Stabilo</td>\n",
              "      <td>Schwan-STABILO is a German maker of pens for ...</td>\n",
              "      <td>Company</td>\n",
              "    </tr>\n",
              "    <tr>\n",
              "      <th>2</th>\n",
              "      <td>1</td>\n",
              "      <td>Q-workshop</td>\n",
              "      <td>Q-workshop is a Polish company located in Poz...</td>\n",
              "      <td>Company</td>\n",
              "    </tr>\n",
              "    <tr>\n",
              "      <th>3</th>\n",
              "      <td>1</td>\n",
              "      <td>Marvell Software Solutions Israel</td>\n",
              "      <td>Marvell Software Solutions Israel known as RA...</td>\n",
              "      <td>Company</td>\n",
              "    </tr>\n",
              "    <tr>\n",
              "      <th>4</th>\n",
              "      <td>1</td>\n",
              "      <td>Bergan Mercy Medical Center</td>\n",
              "      <td>Bergan Mercy Medical Center is a hospital loc...</td>\n",
              "      <td>Company</td>\n",
              "    </tr>\n",
              "  </tbody>\n",
              "</table>\n",
              "</div>\n",
              "    <div class=\"colab-df-buttons\">\n",
              "\n",
              "  <div class=\"colab-df-container\">\n",
              "    <button class=\"colab-df-convert\" onclick=\"convertToInteractive('df-5f0b541c-c8e3-4893-895f-54565bd6395c')\"\n",
              "            title=\"Convert this dataframe to an interactive table.\"\n",
              "            style=\"display:none;\">\n",
              "\n",
              "  <svg xmlns=\"http://www.w3.org/2000/svg\" height=\"24px\" viewBox=\"0 -960 960 960\">\n",
              "    <path d=\"M120-120v-720h720v720H120Zm60-500h600v-160H180v160Zm220 220h160v-160H400v160Zm0 220h160v-160H400v160ZM180-400h160v-160H180v160Zm440 0h160v-160H620v160ZM180-180h160v-160H180v160Zm440 0h160v-160H620v160Z\"/>\n",
              "  </svg>\n",
              "    </button>\n",
              "\n",
              "  <style>\n",
              "    .colab-df-container {\n",
              "      display:flex;\n",
              "      gap: 12px;\n",
              "    }\n",
              "\n",
              "    .colab-df-convert {\n",
              "      background-color: #E8F0FE;\n",
              "      border: none;\n",
              "      border-radius: 50%;\n",
              "      cursor: pointer;\n",
              "      display: none;\n",
              "      fill: #1967D2;\n",
              "      height: 32px;\n",
              "      padding: 0 0 0 0;\n",
              "      width: 32px;\n",
              "    }\n",
              "\n",
              "    .colab-df-convert:hover {\n",
              "      background-color: #E2EBFA;\n",
              "      box-shadow: 0px 1px 2px rgba(60, 64, 67, 0.3), 0px 1px 3px 1px rgba(60, 64, 67, 0.15);\n",
              "      fill: #174EA6;\n",
              "    }\n",
              "\n",
              "    .colab-df-buttons div {\n",
              "      margin-bottom: 4px;\n",
              "    }\n",
              "\n",
              "    [theme=dark] .colab-df-convert {\n",
              "      background-color: #3B4455;\n",
              "      fill: #D2E3FC;\n",
              "    }\n",
              "\n",
              "    [theme=dark] .colab-df-convert:hover {\n",
              "      background-color: #434B5C;\n",
              "      box-shadow: 0px 1px 3px 1px rgba(0, 0, 0, 0.15);\n",
              "      filter: drop-shadow(0px 1px 2px rgba(0, 0, 0, 0.3));\n",
              "      fill: #FFFFFF;\n",
              "    }\n",
              "  </style>\n",
              "\n",
              "    <script>\n",
              "      const buttonEl =\n",
              "        document.querySelector('#df-5f0b541c-c8e3-4893-895f-54565bd6395c button.colab-df-convert');\n",
              "      buttonEl.style.display =\n",
              "        google.colab.kernel.accessAllowed ? 'block' : 'none';\n",
              "\n",
              "      async function convertToInteractive(key) {\n",
              "        const element = document.querySelector('#df-5f0b541c-c8e3-4893-895f-54565bd6395c');\n",
              "        const dataTable =\n",
              "          await google.colab.kernel.invokeFunction('convertToInteractive',\n",
              "                                                    [key], {});\n",
              "        if (!dataTable) return;\n",
              "\n",
              "        const docLinkHtml = 'Like what you see? Visit the ' +\n",
              "          '<a target=\"_blank\" href=https://colab.research.google.com/notebooks/data_table.ipynb>data table notebook</a>'\n",
              "          + ' to learn more about interactive tables.';\n",
              "        element.innerHTML = '';\n",
              "        dataTable['output_type'] = 'display_data';\n",
              "        await google.colab.output.renderOutput(dataTable, element);\n",
              "        const docLink = document.createElement('div');\n",
              "        docLink.innerHTML = docLinkHtml;\n",
              "        element.appendChild(docLink);\n",
              "      }\n",
              "    </script>\n",
              "  </div>\n",
              "\n",
              "\n",
              "<div id=\"df-bc380d41-d1af-41af-86e9-929cc6308ef0\">\n",
              "  <button class=\"colab-df-quickchart\" onclick=\"quickchart('df-bc380d41-d1af-41af-86e9-929cc6308ef0')\"\n",
              "            title=\"Suggest charts.\"\n",
              "            style=\"display:none;\">\n",
              "\n",
              "<svg xmlns=\"http://www.w3.org/2000/svg\" height=\"24px\"viewBox=\"0 0 24 24\"\n",
              "     width=\"24px\">\n",
              "    <g>\n",
              "        <path d=\"M19 3H5c-1.1 0-2 .9-2 2v14c0 1.1.9 2 2 2h14c1.1 0 2-.9 2-2V5c0-1.1-.9-2-2-2zM9 17H7v-7h2v7zm4 0h-2V7h2v10zm4 0h-2v-4h2v4z\"/>\n",
              "    </g>\n",
              "</svg>\n",
              "  </button>\n",
              "\n",
              "<style>\n",
              "  .colab-df-quickchart {\n",
              "    background-color: #E8F0FE;\n",
              "    border: none;\n",
              "    border-radius: 50%;\n",
              "    cursor: pointer;\n",
              "    display: none;\n",
              "    fill: #1967D2;\n",
              "    height: 32px;\n",
              "    padding: 0 0 0 0;\n",
              "    width: 32px;\n",
              "  }\n",
              "\n",
              "  .colab-df-quickchart:hover {\n",
              "    background-color: #E2EBFA;\n",
              "    box-shadow: 0px 1px 2px rgba(60, 64, 67, 0.3), 0px 1px 3px 1px rgba(60, 64, 67, 0.15);\n",
              "    fill: #174EA6;\n",
              "  }\n",
              "\n",
              "  [theme=dark] .colab-df-quickchart {\n",
              "    background-color: #3B4455;\n",
              "    fill: #D2E3FC;\n",
              "  }\n",
              "\n",
              "  [theme=dark] .colab-df-quickchart:hover {\n",
              "    background-color: #434B5C;\n",
              "    box-shadow: 0px 1px 3px 1px rgba(0, 0, 0, 0.15);\n",
              "    filter: drop-shadow(0px 1px 2px rgba(0, 0, 0, 0.3));\n",
              "    fill: #FFFFFF;\n",
              "  }\n",
              "</style>\n",
              "\n",
              "  <script>\n",
              "    async function quickchart(key) {\n",
              "      const charts = await google.colab.kernel.invokeFunction(\n",
              "          'suggestCharts', [key], {});\n",
              "    }\n",
              "    (() => {\n",
              "      let quickchartButtonEl =\n",
              "        document.querySelector('#df-bc380d41-d1af-41af-86e9-929cc6308ef0 button');\n",
              "      quickchartButtonEl.style.display =\n",
              "        google.colab.kernel.accessAllowed ? 'block' : 'none';\n",
              "    })();\n",
              "  </script>\n",
              "</div>\n",
              "    </div>\n",
              "  </div>\n"
            ]
          },
          "metadata": {},
          "execution_count": 8
        }
      ],
      "source": [
        "# Since we have no clue about the classes lets build one\n",
        "# Mapping from class number to class name\n",
        "class_dict={\n",
        "            1:'Company',\n",
        "            2:'EducationalInstitution',\n",
        "            3:'Artist',\n",
        "            4:'Athlete',\n",
        "            5:'OfficeHolder',\n",
        "            6:'MeanOfTransportation',\n",
        "            7:'Building',\n",
        "            8:'NaturalPlace',\n",
        "            9:'Village',\n",
        "            10:'Animal',\n",
        "            11:'Plant',\n",
        "            12:'Album',\n",
        "            13:'Film',\n",
        "            14:'WrittenWork'\n",
        "        }\n",
        "\n",
        "# Mapping the classes\n",
        "df['class_name'] = df['class'].map(class_dict)\n",
        "df.head()"
      ]
    },
    {
      "cell_type": "code",
      "execution_count": 9,
      "metadata": {
        "colab": {
          "base_uri": "https://localhost:8080/"
        },
        "id": "si7VC_Rub62a",
        "outputId": "dd8c0c6e-fce9-4362-abab-45d9c751858c"
      },
      "outputs": [
        {
          "output_type": "execute_result",
          "data": {
            "text/plain": [
              "Company                   40000\n",
              "EducationalInstitution    40000\n",
              "Artist                    40000\n",
              "Athlete                   40000\n",
              "OfficeHolder              40000\n",
              "MeanOfTransportation      40000\n",
              "Building                  40000\n",
              "NaturalPlace              40000\n",
              "Village                   40000\n",
              "Animal                    40000\n",
              "Plant                     40000\n",
              "Album                     40000\n",
              "Film                      40000\n",
              "WrittenWork               40000\n",
              "Name: class_name, dtype: int64"
            ]
          },
          "metadata": {},
          "execution_count": 9
        }
      ],
      "source": [
        "df[\"class_name\"].value_counts()"
      ]
    },
    {
      "cell_type": "code",
      "execution_count": 10,
      "metadata": {
        "id": "Sn-3kIqMb62d"
      },
      "outputs": [],
      "source": [
        "# Lets do some cleaning of this text\n",
        "def clean_it(text,normalize=True):\n",
        "    # Replacing possible issues with data. We can add or reduce the replacemtent in this chain\n",
        "    s = str(text).replace(',',' ').replace('\"','').replace('\\'',' \\' ').replace('.',' . ').replace('(',' ( ').\\\n",
        "            replace(')',' ) ').replace('!',' ! ').replace('?',' ? ').replace(':',' ').replace(';',' ').lower()\n",
        "\n",
        "    # normalizing / encoding the text\n",
        "    if normalize:\n",
        "        s = s.normalize('NFKD').str.encode('ascii','ignore').str.decode('utf-8')\n",
        "\n",
        "    return s\n",
        "\n",
        "# Now lets define a small function where we can use above cleaning on datasets\n",
        "def clean_df(data, cleanit= False, shuffleit=False, encodeit=False, label_prefix='__class__'):\n",
        "    # Defining the new data\n",
        "    df = data[['name','description']].copy(deep=True)\n",
        "    df['class'] = label_prefix + data['class'].astype(str) + ' '\n",
        "\n",
        "    # cleaning it\n",
        "    if cleanit:\n",
        "        df['name'] = df['name'].apply(lambda x: clean_it(x,encodeit))\n",
        "        df['description'] = df['description'].apply(lambda x: clean_it(x,encodeit))\n",
        "\n",
        "    # shuffling it\n",
        "    if shuffleit:\n",
        "        df.sample(frac=1).reset_index(drop=True)\n",
        "\n",
        "    return df"
      ]
    },
    {
      "cell_type": "code",
      "execution_count": 11,
      "metadata": {
        "colab": {
          "base_uri": "https://localhost:8080/"
        },
        "id": "r_DRvdFcb62m",
        "outputId": "75d06ea5-e04f-4c03-a6c4-37fdc4e10442"
      },
      "outputs": [
        {
          "output_type": "stream",
          "name": "stdout",
          "text": [
            "CPU times: user 3.78 s, sys: 220 ms, total: 4 s\n",
            "Wall time: 4.15 s\n"
          ]
        }
      ],
      "source": [
        "%%time\n",
        "# Transform the datasets using the above clean functions\n",
        "df_train_cleaned = clean_df(df, True, True)\n",
        "df_test_cleaned = clean_df(df_test, True, True)"
      ]
    },
    {
      "cell_type": "code",
      "execution_count": 12,
      "metadata": {
        "id": "imMZ9-Bkb62t"
      },
      "outputs": [],
      "source": [
        "# Write files to disk as fastText classifier API reads files from disk.\n",
        "train_file = data_path + '/dbpedia_train.csv'\n",
        "df_train_cleaned.to_csv(train_file, header=None, index=False, columns=['class','name','description'] )\n",
        "\n",
        "test_file = data_path + '/dbpedia_test.csv'\n",
        "df_test_cleaned.to_csv(test_file, header=None, index=False, columns=['class','name','description'] )\n"
      ]
    },
    {
      "cell_type": "markdown",
      "metadata": {
        "id": "bWZTSzd9b62x"
      },
      "source": [
        "Now that we have the train and test files written into disk in a format fastText wants, we are ready to use it for text classification!"
      ]
    },
    {
      "cell_type": "code",
      "execution_count": 13,
      "metadata": {
        "id": "a-H1wouCb62x",
        "colab": {
          "base_uri": "https://localhost:8080/"
        },
        "outputId": "bdb18719-1b63-4c76-f1cb-58e93717fbd2"
      },
      "outputs": [
        {
          "output_type": "stream",
          "name": "stdout",
          "text": [
            "CPU times: user 1h, sys: 19 s, total: 1h 19s\n",
            "Wall time: 33min 36s\n"
          ]
        }
      ],
      "source": [
        "%%time\n",
        "## Using fastText for feature extraction and training\n",
        "from fasttext import train_supervised\n",
        "\"\"\"fastText expects and training file (csv), a model name as input arguments.\n",
        "label_prefix refers to the prefix before label string in the dataset.\n",
        "default is __label__. In our dataset, it is __class__.\n",
        "There are several other parameters which can be seen in:\n",
        "https://pypi.org/project/fasttext/\n",
        "\"\"\"\n",
        "model = train_supervised(input=train_file, label=\"__class__\", lr=1.0, epoch=75, loss='ova', wordNgrams=2, dim=200, thread=2, verbose=100)"
      ]
    },
    {
      "cell_type": "code",
      "execution_count": 14,
      "metadata": {
        "id": "sAyN3ZDbQFq-",
        "colab": {
          "base_uri": "https://localhost:8080/"
        },
        "outputId": "7aec83c4-251d-402e-e10d-1f926de4c64f"
      },
      "outputs": [
        {
          "output_type": "stream",
          "name": "stdout",
          "text": [
            "Test Samples: 70000 Precision@1 : 91.5214 Recall@1 : 91.5214\n",
            "Test Samples: 70000 Precision@2 : 47.6493 Recall@2 : 95.2986\n",
            "Test Samples: 70000 Precision@3 : 31.9848 Recall@3 : 95.9543\n",
            "Test Samples: 70000 Precision@4 : 24.2014 Recall@4 : 96.8057\n",
            "Test Samples: 70000 Precision@5 : 19.4149 Recall@5 : 97.0743\n"
          ]
        }
      ],
      "source": [
        "for k in range(1,6):\n",
        "    results = model.test(test_file,k=k)\n",
        "    print(f\"Test Samples: {results[0]} Precision@{k} : {results[1]*100:2.4f} Recall@{k} : {results[2]*100:2.4f}\")"
      ]
    },
    {
      "cell_type": "markdown",
      "metadata": {
        "id": "nrxSYRs3b621"
      },
      "source": [
        "Try training a classifier on this dataset with, say, LogisticRegression to realize how fast fastText is! 90% Precision and Recall are hard numbers to beat, too!"
      ]
    },
    {
      "cell_type": "code",
      "source": [],
      "metadata": {
        "id": "AHSqt1rLd-R0"
      },
      "execution_count": null,
      "outputs": []
    }
  ],
  "metadata": {
    "accelerator": "GPU",
    "colab": {
      "provenance": []
    },
    "kernelspec": {
      "display_name": "Python 3 (ipykernel)",
      "language": "python",
      "name": "python3"
    },
    "language_info": {
      "codemirror_mode": {
        "name": "ipython",
        "version": 3
      },
      "file_extension": ".py",
      "mimetype": "text/x-python",
      "name": "python",
      "nbconvert_exporter": "python",
      "pygments_lexer": "ipython3",
      "version": "3.9.17"
    }
  },
  "nbformat": 4,
  "nbformat_minor": 0
}